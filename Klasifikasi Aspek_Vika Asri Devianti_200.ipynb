{
 "cells": [
  {
   "cell_type": "markdown",
   "metadata": {},
   "source": [
    "# Klasifikasi Sentimen Berdasarkan Aspek"
   ]
  },
  {
   "cell_type": "markdown",
   "metadata": {},
   "source": [
    "## 1. Load Dataset"
   ]
  },
  {
   "cell_type": "code",
   "execution_count": 1,
   "metadata": {},
   "outputs": [],
   "source": [
    "import pandas as pd\n",
    "data_lexicon = pd.read_csv('lexicon/Hasil_Preprocessing_Pelabelan.csv')\n",
    "data_manual = pd.read_csv('lexicon/Hasil_Preprocessing_manual.csv')"
   ]
  },
  {
   "cell_type": "code",
   "execution_count": 2,
   "metadata": {
    "scrolled": false
   },
   "outputs": [
    {
     "data": {
      "text/html": [
       "<div>\n",
       "<style scoped>\n",
       "    .dataframe tbody tr th:only-of-type {\n",
       "        vertical-align: middle;\n",
       "    }\n",
       "\n",
       "    .dataframe tbody tr th {\n",
       "        vertical-align: top;\n",
       "    }\n",
       "\n",
       "    .dataframe thead th {\n",
       "        text-align: right;\n",
       "    }\n",
       "</style>\n",
       "<table border=\"1\" class=\"dataframe\">\n",
       "  <thead>\n",
       "    <tr style=\"text-align: right;\">\n",
       "      <th></th>\n",
       "      <th>Waktu</th>\n",
       "      <th>Data</th>\n",
       "      <th>Data_Tokens</th>\n",
       "      <th>Data_Tokens_Stopwords</th>\n",
       "      <th>Data_Tokens_Stemming</th>\n",
       "      <th>Data_Preprocessing</th>\n",
       "      <th>polarity_score</th>\n",
       "      <th>polarity</th>\n",
       "    </tr>\n",
       "  </thead>\n",
       "  <tbody>\n",
       "    <tr>\n",
       "      <td>0</td>\n",
       "      <td>9/5/2021 0:31</td>\n",
       "      <td>selamat pagi bisa saja mereka minum kopi merek...</td>\n",
       "      <td>['selamat', 'pagi', 'bisa', 'saja', 'mereka', ...</td>\n",
       "      <td>['selamat', 'pagi', 'minum', 'kopi', 'sengaja'...</td>\n",
       "      <td>['selamat', 'pagi', 'minum', 'kopi', 'sengaja'...</td>\n",
       "      <td>['selamat', 'pagi', 'minum', 'kopi', 'sengaja'...</td>\n",
       "      <td>8</td>\n",
       "      <td>positive</td>\n",
       "    </tr>\n",
       "    <tr>\n",
       "      <td>1</td>\n",
       "      <td>9/17/2021 12:48</td>\n",
       "      <td>sosialisasi aplikasi peduli lindungi satlantas...</td>\n",
       "      <td>['sosialisasi', 'aplikasi', 'peduli', 'lindung...</td>\n",
       "      <td>['sosialisasi', 'aplikasi', 'peduli', 'lindung...</td>\n",
       "      <td>['sosialisasi', 'aplikasi', 'peduli', 'lindung...</td>\n",
       "      <td>['sosialisasi', 'aplikasi', 'peduli', 'lindung...</td>\n",
       "      <td>3</td>\n",
       "      <td>positive</td>\n",
       "    </tr>\n",
       "    <tr>\n",
       "      <td>2</td>\n",
       "      <td>9/18/2021 1:44</td>\n",
       "      <td>saya kan kemarin mendaftarkan orang tua saya v...</td>\n",
       "      <td>['saya', 'kan', 'kemarin', 'mendaftarkan', 'or...</td>\n",
       "      <td>['kemarin', 'mendaftarkan', 'orang', 'tua', 'v...</td>\n",
       "      <td>['kemarin', 'daftar', 'orang', 'tua', 'vaksin'...</td>\n",
       "      <td>['kemarin', 'daftar', 'orang', 'tua', 'vaksin'...</td>\n",
       "      <td>5</td>\n",
       "      <td>positive</td>\n",
       "    </tr>\n",
       "    <tr>\n",
       "      <td>3</td>\n",
       "      <td>9/22/2021 5:43</td>\n",
       "      <td>aplikasi peduli lindungi soalnya ada kata meli...</td>\n",
       "      <td>['aplikasi', 'peduli', 'lindungi', 'soalnya', ...</td>\n",
       "      <td>['aplikasi', 'peduli', 'lindungi', 'melindungi']</td>\n",
       "      <td>['aplikasi', 'peduli', 'lindung', 'lindung']</td>\n",
       "      <td>['aplikasi', 'peduli', 'lindung', 'lindung']</td>\n",
       "      <td>7</td>\n",
       "      <td>positive</td>\n",
       "    </tr>\n",
       "    <tr>\n",
       "      <td>4</td>\n",
       "      <td>9/17/2021 2:27</td>\n",
       "      <td>data nomor induk kependudukan tidak ditemukan ...</td>\n",
       "      <td>['data', 'nomor', 'induk', 'kependudukan', 'ti...</td>\n",
       "      <td>['data', 'nomor', 'induk', 'kependudukan', 'di...</td>\n",
       "      <td>['data', 'nomor', 'induk', 'duduk', 'temu', 'p...</td>\n",
       "      <td>['data', 'nomor', 'induk', 'duduk', 'temu', 'p...</td>\n",
       "      <td>7</td>\n",
       "      <td>positive</td>\n",
       "    </tr>\n",
       "    <tr>\n",
       "      <td>5</td>\n",
       "      <td>9/16/2021 5:23</td>\n",
       "      <td>berantakannya aplikasi peduli lindungi</td>\n",
       "      <td>['berantakannya', 'aplikasi', 'peduli', 'lindu...</td>\n",
       "      <td>['berantakannya', 'aplikasi', 'peduli', 'lindu...</td>\n",
       "      <td>['beranta', 'aplikasi', 'peduli', 'lindung']</td>\n",
       "      <td>['beranta', 'aplikasi', 'peduli', 'lindung']</td>\n",
       "      <td>3</td>\n",
       "      <td>positive</td>\n",
       "    </tr>\n",
       "    <tr>\n",
       "      <td>6</td>\n",
       "      <td>9/9/2021 7:23</td>\n",
       "      <td>ini saya kalau mau masuk pakai scan barcode ap...</td>\n",
       "      <td>['ini', 'saya', 'kalau', 'mau', 'masuk', 'paka...</td>\n",
       "      <td>['masuk', 'pakai', 'scan', 'barcode', 'aplikas...</td>\n",
       "      <td>['masuk', 'pakai', 'scan', 'barcode', 'aplikas...</td>\n",
       "      <td>['masuk', 'pakai', 'scan', 'barcode', 'aplikas...</td>\n",
       "      <td>3</td>\n",
       "      <td>positive</td>\n",
       "    </tr>\n",
       "    <tr>\n",
       "      <td>7</td>\n",
       "      <td>9/4/2021 9:55</td>\n",
       "      <td>intinya sebenarnya mereka semua asn harus puny...</td>\n",
       "      <td>['intinya', 'sebenarnya', 'mereka', 'semua', '...</td>\n",
       "      <td>['intinya', 'asn', 'aplikasi', 'peduli', 'lind...</td>\n",
       "      <td>['inti', 'asn', 'aplikasi', 'peduli', 'lindung...</td>\n",
       "      <td>['inti', 'asn', 'aplikasi', 'peduli', 'lindung...</td>\n",
       "      <td>5</td>\n",
       "      <td>positive</td>\n",
       "    </tr>\n",
       "    <tr>\n",
       "      <td>8</td>\n",
       "      <td>9/21/2021 11:37</td>\n",
       "      <td>kawan kalau ke mall masih harus pakai aplikasi...</td>\n",
       "      <td>['kawan', 'kalau', 'ke', 'mall', 'masih', 'har...</td>\n",
       "      <td>['kawan', 'mall', 'pakai', 'aplikasi', 'peduli...</td>\n",
       "      <td>['kawan', 'mall', 'pakai', 'aplikasi', 'peduli...</td>\n",
       "      <td>['kawan', 'mall', 'pakai', 'aplikasi', 'peduli...</td>\n",
       "      <td>3</td>\n",
       "      <td>positive</td>\n",
       "    </tr>\n",
       "    <tr>\n",
       "      <td>9</td>\n",
       "      <td>9/21/2021 22:01</td>\n",
       "      <td>nanti masuk universitas padjajaran harus scan ...</td>\n",
       "      <td>['nanti', 'masuk', 'universitas', 'padjajaran'...</td>\n",
       "      <td>['masuk', 'universitas', 'padjajaran', 'scan',...</td>\n",
       "      <td>['masuk', 'universitas', 'padjajaran', 'scan',...</td>\n",
       "      <td>['masuk', 'universitas', 'padjajaran', 'scan',...</td>\n",
       "      <td>7</td>\n",
       "      <td>positive</td>\n",
       "    </tr>\n",
       "  </tbody>\n",
       "</table>\n",
       "</div>"
      ],
      "text/plain": [
       "             Waktu                                               Data  \\\n",
       "0    9/5/2021 0:31  selamat pagi bisa saja mereka minum kopi merek...   \n",
       "1  9/17/2021 12:48  sosialisasi aplikasi peduli lindungi satlantas...   \n",
       "2   9/18/2021 1:44  saya kan kemarin mendaftarkan orang tua saya v...   \n",
       "3   9/22/2021 5:43  aplikasi peduli lindungi soalnya ada kata meli...   \n",
       "4   9/17/2021 2:27  data nomor induk kependudukan tidak ditemukan ...   \n",
       "5   9/16/2021 5:23             berantakannya aplikasi peduli lindungi   \n",
       "6    9/9/2021 7:23  ini saya kalau mau masuk pakai scan barcode ap...   \n",
       "7    9/4/2021 9:55  intinya sebenarnya mereka semua asn harus puny...   \n",
       "8  9/21/2021 11:37  kawan kalau ke mall masih harus pakai aplikasi...   \n",
       "9  9/21/2021 22:01  nanti masuk universitas padjajaran harus scan ...   \n",
       "\n",
       "                                         Data_Tokens  \\\n",
       "0  ['selamat', 'pagi', 'bisa', 'saja', 'mereka', ...   \n",
       "1  ['sosialisasi', 'aplikasi', 'peduli', 'lindung...   \n",
       "2  ['saya', 'kan', 'kemarin', 'mendaftarkan', 'or...   \n",
       "3  ['aplikasi', 'peduli', 'lindungi', 'soalnya', ...   \n",
       "4  ['data', 'nomor', 'induk', 'kependudukan', 'ti...   \n",
       "5  ['berantakannya', 'aplikasi', 'peduli', 'lindu...   \n",
       "6  ['ini', 'saya', 'kalau', 'mau', 'masuk', 'paka...   \n",
       "7  ['intinya', 'sebenarnya', 'mereka', 'semua', '...   \n",
       "8  ['kawan', 'kalau', 'ke', 'mall', 'masih', 'har...   \n",
       "9  ['nanti', 'masuk', 'universitas', 'padjajaran'...   \n",
       "\n",
       "                               Data_Tokens_Stopwords  \\\n",
       "0  ['selamat', 'pagi', 'minum', 'kopi', 'sengaja'...   \n",
       "1  ['sosialisasi', 'aplikasi', 'peduli', 'lindung...   \n",
       "2  ['kemarin', 'mendaftarkan', 'orang', 'tua', 'v...   \n",
       "3   ['aplikasi', 'peduli', 'lindungi', 'melindungi']   \n",
       "4  ['data', 'nomor', 'induk', 'kependudukan', 'di...   \n",
       "5  ['berantakannya', 'aplikasi', 'peduli', 'lindu...   \n",
       "6  ['masuk', 'pakai', 'scan', 'barcode', 'aplikas...   \n",
       "7  ['intinya', 'asn', 'aplikasi', 'peduli', 'lind...   \n",
       "8  ['kawan', 'mall', 'pakai', 'aplikasi', 'peduli...   \n",
       "9  ['masuk', 'universitas', 'padjajaran', 'scan',...   \n",
       "\n",
       "                                Data_Tokens_Stemming  \\\n",
       "0  ['selamat', 'pagi', 'minum', 'kopi', 'sengaja'...   \n",
       "1  ['sosialisasi', 'aplikasi', 'peduli', 'lindung...   \n",
       "2  ['kemarin', 'daftar', 'orang', 'tua', 'vaksin'...   \n",
       "3       ['aplikasi', 'peduli', 'lindung', 'lindung']   \n",
       "4  ['data', 'nomor', 'induk', 'duduk', 'temu', 'p...   \n",
       "5       ['beranta', 'aplikasi', 'peduli', 'lindung']   \n",
       "6  ['masuk', 'pakai', 'scan', 'barcode', 'aplikas...   \n",
       "7  ['inti', 'asn', 'aplikasi', 'peduli', 'lindung...   \n",
       "8  ['kawan', 'mall', 'pakai', 'aplikasi', 'peduli...   \n",
       "9  ['masuk', 'universitas', 'padjajaran', 'scan',...   \n",
       "\n",
       "                                  Data_Preprocessing  polarity_score  polarity  \n",
       "0  ['selamat', 'pagi', 'minum', 'kopi', 'sengaja'...               8  positive  \n",
       "1  ['sosialisasi', 'aplikasi', 'peduli', 'lindung...               3  positive  \n",
       "2  ['kemarin', 'daftar', 'orang', 'tua', 'vaksin'...               5  positive  \n",
       "3       ['aplikasi', 'peduli', 'lindung', 'lindung']               7  positive  \n",
       "4  ['data', 'nomor', 'induk', 'duduk', 'temu', 'p...               7  positive  \n",
       "5       ['beranta', 'aplikasi', 'peduli', 'lindung']               3  positive  \n",
       "6  ['masuk', 'pakai', 'scan', 'barcode', 'aplikas...               3  positive  \n",
       "7  ['inti', 'asn', 'aplikasi', 'peduli', 'lindung...               5  positive  \n",
       "8  ['kawan', 'mall', 'pakai', 'aplikasi', 'peduli...               3  positive  \n",
       "9  ['masuk', 'universitas', 'padjajaran', 'scan',...               7  positive  "
      ]
     },
     "execution_count": 2,
     "metadata": {},
     "output_type": "execute_result"
    }
   ],
   "source": [
    "data_lexicon.head(10)"
   ]
  },
  {
   "cell_type": "code",
   "execution_count": 3,
   "metadata": {
    "scrolled": false
   },
   "outputs": [
    {
     "data": {
      "text/html": [
       "<div>\n",
       "<style scoped>\n",
       "    .dataframe tbody tr th:only-of-type {\n",
       "        vertical-align: middle;\n",
       "    }\n",
       "\n",
       "    .dataframe tbody tr th {\n",
       "        vertical-align: top;\n",
       "    }\n",
       "\n",
       "    .dataframe thead th {\n",
       "        text-align: right;\n",
       "    }\n",
       "</style>\n",
       "<table border=\"1\" class=\"dataframe\">\n",
       "  <thead>\n",
       "    <tr style=\"text-align: right;\">\n",
       "      <th></th>\n",
       "      <th>Waktu</th>\n",
       "      <th>Data</th>\n",
       "      <th>data_tokens</th>\n",
       "      <th>data_tokens_stopwords</th>\n",
       "      <th>data_tokens_stemmed</th>\n",
       "      <th>data_preprocessed</th>\n",
       "      <th>Sentiment</th>\n",
       "    </tr>\n",
       "  </thead>\n",
       "  <tbody>\n",
       "    <tr>\n",
       "      <td>0</td>\n",
       "      <td>9/5/2021 0:31</td>\n",
       "      <td>selamat pagi bisa saja mereka minum kopi merek...</td>\n",
       "      <td>['selamat', 'pagi', 'bisa', 'saja', 'mereka', ...</td>\n",
       "      <td>['selamat', 'pagi', 'minum', 'kopi', 'sengaja'...</td>\n",
       "      <td>['selamat', 'pagi', 'minum', 'kopi', 'sengaja'...</td>\n",
       "      <td>['selamat', 'pagi', 'minum', 'kopi', 'sengaja'...</td>\n",
       "      <td>neutral</td>\n",
       "    </tr>\n",
       "    <tr>\n",
       "      <td>1</td>\n",
       "      <td>9/17/2021 12:48</td>\n",
       "      <td>sosialisasi aplikasi peduli lindungi satuan la...</td>\n",
       "      <td>['sosialisasi', 'aplikasi', 'peduli', 'lindung...</td>\n",
       "      <td>['sosialisasi', 'aplikasi', 'peduli', 'lindung...</td>\n",
       "      <td>['sosialisasi', 'aplikasi', 'peduli', 'lindung...</td>\n",
       "      <td>['sosialisasi', 'aplikasi', 'peduli', 'lindung...</td>\n",
       "      <td>neutral</td>\n",
       "    </tr>\n",
       "    <tr>\n",
       "      <td>2</td>\n",
       "      <td>9/18/2021 1:44</td>\n",
       "      <td>saya kan kemarin mendaftarkan orang tua saya v...</td>\n",
       "      <td>['saya', 'kan', 'kemarin', 'mendaftarkan', 'or...</td>\n",
       "      <td>['kemarin', 'mendaftarkan', 'orang', 'tua', 'v...</td>\n",
       "      <td>['kemarin', 'daftar', 'orang', 'tua', 'vaksin'...</td>\n",
       "      <td>['kemarin', 'daftar', 'orang', 'tua', 'vaksin'...</td>\n",
       "      <td>neutral</td>\n",
       "    </tr>\n",
       "    <tr>\n",
       "      <td>3</td>\n",
       "      <td>9/22/2021 5:43</td>\n",
       "      <td>aplikasi peduli lindungi soalnya ada kata meli...</td>\n",
       "      <td>['aplikasi', 'peduli', 'lindungi', 'soalnya', ...</td>\n",
       "      <td>['aplikasi', 'peduli', 'lindungi', 'melindungi']</td>\n",
       "      <td>['aplikasi', 'peduli', 'lindung', 'lindung']</td>\n",
       "      <td>['aplikasi', 'peduli', 'lindung', 'lindung']</td>\n",
       "      <td>positive</td>\n",
       "    </tr>\n",
       "    <tr>\n",
       "      <td>4</td>\n",
       "      <td>9/17/2021 2:27</td>\n",
       "      <td>data nomor induk kependudukan tidak ditemukan ...</td>\n",
       "      <td>['data', 'nomor', 'induk', 'kependudukan', 'ti...</td>\n",
       "      <td>['data', 'nomor', 'induk', 'kependudukan', 'di...</td>\n",
       "      <td>['data', 'nomor', 'induk', 'duduk', 'temu', 'p...</td>\n",
       "      <td>['data', 'nomor', 'induk', 'duduk', 'temu', 'p...</td>\n",
       "      <td>negative</td>\n",
       "    </tr>\n",
       "    <tr>\n",
       "      <td>5</td>\n",
       "      <td>9/16/2021 5:23</td>\n",
       "      <td>berantakannya aplikasi peduli lindungi</td>\n",
       "      <td>['berantakannya', 'aplikasi', 'peduli', 'lindu...</td>\n",
       "      <td>['berantakannya', 'aplikasi', 'peduli', 'lindu...</td>\n",
       "      <td>['beranta', 'aplikasi', 'peduli', 'lindung']</td>\n",
       "      <td>['beranta', 'aplikasi', 'peduli', 'lindung']</td>\n",
       "      <td>negative</td>\n",
       "    </tr>\n",
       "    <tr>\n",
       "      <td>6</td>\n",
       "      <td>9/9/2021 7:23</td>\n",
       "      <td>ini saya kalau mau masuk pakai scan barcode ap...</td>\n",
       "      <td>['ini', 'saya', 'kalau', 'mau', 'masuk', 'paka...</td>\n",
       "      <td>['masuk', 'pakai', 'scan', 'barcode', 'aplikas...</td>\n",
       "      <td>['masuk', 'pakai', 'scan', 'barcode', 'aplikas...</td>\n",
       "      <td>['masuk', 'pakai', 'scan', 'barcode', 'aplikas...</td>\n",
       "      <td>neutral</td>\n",
       "    </tr>\n",
       "    <tr>\n",
       "      <td>7</td>\n",
       "      <td>9/4/2021 9:55</td>\n",
       "      <td>intinya sebenarnya mereka semua asn harus puny...</td>\n",
       "      <td>['intinya', 'sebenarnya', 'mereka', 'semua', '...</td>\n",
       "      <td>['intinya', 'asn', 'aplikasi', 'peduli', 'lind...</td>\n",
       "      <td>['inti', 'asn', 'aplikasi', 'peduli', 'lindung...</td>\n",
       "      <td>['inti', 'asn', 'aplikasi', 'peduli', 'lindung...</td>\n",
       "      <td>positive</td>\n",
       "    </tr>\n",
       "    <tr>\n",
       "      <td>8</td>\n",
       "      <td>9/21/2021 11:37</td>\n",
       "      <td>kawan kalau ke mall masih harus pakai aplikasi...</td>\n",
       "      <td>['kawan', 'kalau', 'ke', 'mall', 'masih', 'har...</td>\n",
       "      <td>['kawan', 'mall', 'pakai', 'aplikasi', 'peduli...</td>\n",
       "      <td>['kawan', 'mall', 'pakai', 'aplikasi', 'peduli...</td>\n",
       "      <td>['kawan', 'mall', 'pakai', 'aplikasi', 'peduli...</td>\n",
       "      <td>neutral</td>\n",
       "    </tr>\n",
       "    <tr>\n",
       "      <td>9</td>\n",
       "      <td>9/21/2021 22:01</td>\n",
       "      <td>nanti masuk universitas padjajaran harus scan ...</td>\n",
       "      <td>['nanti', 'masuk', 'universitas', 'padjajaran'...</td>\n",
       "      <td>['masuk', 'universitas', 'padjajaran', 'scan',...</td>\n",
       "      <td>['masuk', 'universitas', 'padjajaran', 'scan',...</td>\n",
       "      <td>['masuk', 'universitas', 'padjajaran', 'scan',...</td>\n",
       "      <td>neutral</td>\n",
       "    </tr>\n",
       "  </tbody>\n",
       "</table>\n",
       "</div>"
      ],
      "text/plain": [
       "             Waktu                                               Data  \\\n",
       "0    9/5/2021 0:31  selamat pagi bisa saja mereka minum kopi merek...   \n",
       "1  9/17/2021 12:48  sosialisasi aplikasi peduli lindungi satuan la...   \n",
       "2   9/18/2021 1:44  saya kan kemarin mendaftarkan orang tua saya v...   \n",
       "3   9/22/2021 5:43  aplikasi peduli lindungi soalnya ada kata meli...   \n",
       "4   9/17/2021 2:27  data nomor induk kependudukan tidak ditemukan ...   \n",
       "5   9/16/2021 5:23             berantakannya aplikasi peduli lindungi   \n",
       "6    9/9/2021 7:23  ini saya kalau mau masuk pakai scan barcode ap...   \n",
       "7    9/4/2021 9:55  intinya sebenarnya mereka semua asn harus puny...   \n",
       "8  9/21/2021 11:37  kawan kalau ke mall masih harus pakai aplikasi...   \n",
       "9  9/21/2021 22:01  nanti masuk universitas padjajaran harus scan ...   \n",
       "\n",
       "                                         data_tokens  \\\n",
       "0  ['selamat', 'pagi', 'bisa', 'saja', 'mereka', ...   \n",
       "1  ['sosialisasi', 'aplikasi', 'peduli', 'lindung...   \n",
       "2  ['saya', 'kan', 'kemarin', 'mendaftarkan', 'or...   \n",
       "3  ['aplikasi', 'peduli', 'lindungi', 'soalnya', ...   \n",
       "4  ['data', 'nomor', 'induk', 'kependudukan', 'ti...   \n",
       "5  ['berantakannya', 'aplikasi', 'peduli', 'lindu...   \n",
       "6  ['ini', 'saya', 'kalau', 'mau', 'masuk', 'paka...   \n",
       "7  ['intinya', 'sebenarnya', 'mereka', 'semua', '...   \n",
       "8  ['kawan', 'kalau', 'ke', 'mall', 'masih', 'har...   \n",
       "9  ['nanti', 'masuk', 'universitas', 'padjajaran'...   \n",
       "\n",
       "                               data_tokens_stopwords  \\\n",
       "0  ['selamat', 'pagi', 'minum', 'kopi', 'sengaja'...   \n",
       "1  ['sosialisasi', 'aplikasi', 'peduli', 'lindung...   \n",
       "2  ['kemarin', 'mendaftarkan', 'orang', 'tua', 'v...   \n",
       "3   ['aplikasi', 'peduli', 'lindungi', 'melindungi']   \n",
       "4  ['data', 'nomor', 'induk', 'kependudukan', 'di...   \n",
       "5  ['berantakannya', 'aplikasi', 'peduli', 'lindu...   \n",
       "6  ['masuk', 'pakai', 'scan', 'barcode', 'aplikas...   \n",
       "7  ['intinya', 'asn', 'aplikasi', 'peduli', 'lind...   \n",
       "8  ['kawan', 'mall', 'pakai', 'aplikasi', 'peduli...   \n",
       "9  ['masuk', 'universitas', 'padjajaran', 'scan',...   \n",
       "\n",
       "                                 data_tokens_stemmed  \\\n",
       "0  ['selamat', 'pagi', 'minum', 'kopi', 'sengaja'...   \n",
       "1  ['sosialisasi', 'aplikasi', 'peduli', 'lindung...   \n",
       "2  ['kemarin', 'daftar', 'orang', 'tua', 'vaksin'...   \n",
       "3       ['aplikasi', 'peduli', 'lindung', 'lindung']   \n",
       "4  ['data', 'nomor', 'induk', 'duduk', 'temu', 'p...   \n",
       "5       ['beranta', 'aplikasi', 'peduli', 'lindung']   \n",
       "6  ['masuk', 'pakai', 'scan', 'barcode', 'aplikas...   \n",
       "7  ['inti', 'asn', 'aplikasi', 'peduli', 'lindung...   \n",
       "8  ['kawan', 'mall', 'pakai', 'aplikasi', 'peduli...   \n",
       "9  ['masuk', 'universitas', 'padjajaran', 'scan',...   \n",
       "\n",
       "                                   data_preprocessed Sentiment  \n",
       "0  ['selamat', 'pagi', 'minum', 'kopi', 'sengaja'...   neutral  \n",
       "1  ['sosialisasi', 'aplikasi', 'peduli', 'lindung...   neutral  \n",
       "2  ['kemarin', 'daftar', 'orang', 'tua', 'vaksin'...   neutral  \n",
       "3       ['aplikasi', 'peduli', 'lindung', 'lindung']  positive  \n",
       "4  ['data', 'nomor', 'induk', 'duduk', 'temu', 'p...  negative  \n",
       "5       ['beranta', 'aplikasi', 'peduli', 'lindung']  negative  \n",
       "6  ['masuk', 'pakai', 'scan', 'barcode', 'aplikas...   neutral  \n",
       "7  ['inti', 'asn', 'aplikasi', 'peduli', 'lindung...  positive  \n",
       "8  ['kawan', 'mall', 'pakai', 'aplikasi', 'peduli...   neutral  \n",
       "9  ['masuk', 'universitas', 'padjajaran', 'scan',...   neutral  "
      ]
     },
     "execution_count": 3,
     "metadata": {},
     "output_type": "execute_result"
    }
   ],
   "source": [
    "data_manual.head(10)"
   ]
  },
  {
   "cell_type": "code",
   "execution_count": 5,
   "metadata": {
    "scrolled": false
   },
   "outputs": [
    {
     "data": {
      "text/plain": [
       "0    selamat pagi minum kopi sengaja manfaat aplika...\n",
       "1    sosialisasi aplikasi peduli lindung satlantas ...\n",
       "2    kemarin daftar orang tua vaksin peduli lindung...\n",
       "3                      aplikasi peduli lindung lindung\n",
       "4    data nomor induk duduk temu peduli lindung hub...\n",
       "5                      beranta aplikasi peduli lindung\n",
       "6     masuk pakai scan barcode aplikasi peduli lindung\n",
       "7    inti asn aplikasi peduli lindung minta tri seh...\n",
       "8             kawan mall pakai aplikasi peduli lindung\n",
       "9     masuk universitas padjajaran scan peduli lindung\n",
       "Name: Data_Tweet_Preprocessing, dtype: object"
      ]
     },
     "execution_count": 5,
     "metadata": {},
     "output_type": "execute_result"
    }
   ],
   "source": [
    "import ast\n",
    "\n",
    "def join_text_list(texts):\n",
    "    texts = ast.literal_eval(texts)\n",
    "    return ' '.join([text for text in texts])\n",
    "data_lexicon[\"Data_Tweet_Preprocessing\"]= data_lexicon['Data_Preprocessing'].apply(join_text_list)\n",
    "\n",
    "data_lexicon[\"Data_Tweet_Preprocessing\"].head(10)"
   ]
  },
  {
   "cell_type": "code",
   "execution_count": 6,
   "metadata": {},
   "outputs": [],
   "source": [
    "data_lexicon['label_num_lexicon'] = data_lexicon.polarity.map({'positive':1,'negative':-1,'neutral':0})\n",
    "data_manual['label_num_manual'] = data_manual.Sentiment.map({'positive':1,'negative':-1,'neutral':0})\n",
    "\n",
    "data ={'Data_Tweet' : data_lexicon[\"Data_Tweet_Preprocessing\"],\n",
    "        'lexicon_based': data_lexicon['polarity'],\n",
    "       'label_num_lexicon' : data_lexicon.label_num_lexicon,\n",
    "       'ahli_bahasa' : data_manual['Sentiment'],\n",
    "       'label_num_manual' : data_lexicon.label_num_lexicon}\n",
    "\n",
    "sentimen_tweet = pd.DataFrame(data)"
   ]
  },
  {
   "cell_type": "code",
   "execution_count": 7,
   "metadata": {},
   "outputs": [],
   "source": [
    "# Export to csv file\n",
    "sentimen_tweet.to_csv(r'lexicon/Perbandingan_Kelas_Sentimen.csv', index = False, header = True,index_label=None)"
   ]
  },
  {
   "cell_type": "markdown",
   "metadata": {},
   "source": [
    "## 2. Load Dataset Per-Kolom"
   ]
  },
  {
   "cell_type": "code",
   "execution_count": 9,
   "metadata": {},
   "outputs": [],
   "source": [
    "import numpy as np  \n",
    "import matplotlib.pyplot as plt\n",
    "import re\n",
    "import seaborn as sns\n",
    "%matplotlib inline"
   ]
  },
  {
   "cell_type": "code",
   "execution_count": 10,
   "metadata": {},
   "outputs": [
    {
     "data": {
      "text/html": [
       "<div>\n",
       "<style scoped>\n",
       "    .dataframe tbody tr th:only-of-type {\n",
       "        vertical-align: middle;\n",
       "    }\n",
       "\n",
       "    .dataframe tbody tr th {\n",
       "        vertical-align: top;\n",
       "    }\n",
       "\n",
       "    .dataframe thead th {\n",
       "        text-align: right;\n",
       "    }\n",
       "</style>\n",
       "<table border=\"1\" class=\"dataframe\">\n",
       "  <thead>\n",
       "    <tr style=\"text-align: right;\">\n",
       "      <th></th>\n",
       "      <th>Data_Tweet</th>\n",
       "      <th>aspek</th>\n",
       "      <th>lexicon_based</th>\n",
       "      <th>ahli_bahasa</th>\n",
       "    </tr>\n",
       "  </thead>\n",
       "  <tbody>\n",
       "    <tr>\n",
       "      <td>0</td>\n",
       "      <td>selamat pagi bisa saja mereka minum kopi mereka dengan sengaja memanfaatkan aplikasi peduli lindungi</td>\n",
       "      <td>aplikasi</td>\n",
       "      <td>positive</td>\n",
       "      <td>neutral</td>\n",
       "    </tr>\n",
       "    <tr>\n",
       "      <td>1</td>\n",
       "      <td>sosialisasi aplikasi peduli lindungi satuan lalu lintas polres pesisir selatan polda metro</td>\n",
       "      <td>aplikasi</td>\n",
       "      <td>positive</td>\n",
       "      <td>neutral</td>\n",
       "    </tr>\n",
       "    <tr>\n",
       "      <td>2</td>\n",
       "      <td>saya kan kemarin mendaftarkan orang tua saya vaksin di peduli lindungi sekarang status nya seperti ini terus langkah selanjutnya harus gimana ya</td>\n",
       "      <td>layanan</td>\n",
       "      <td>positive</td>\n",
       "      <td>neutral</td>\n",
       "    </tr>\n",
       "    <tr>\n",
       "      <td>3</td>\n",
       "      <td>aplikasi peduli lindungi soalnya ada kata melindungi kamu</td>\n",
       "      <td>aplikasi</td>\n",
       "      <td>positive</td>\n",
       "      <td>positive</td>\n",
       "    </tr>\n",
       "    <tr>\n",
       "      <td>4</td>\n",
       "      <td>data nomor induk kependudukan tidak ditemukan di peduli lindungi hubungi satu data vaksinasi di pusat telepon hot line peduli lindungi</td>\n",
       "      <td>aplikasi</td>\n",
       "      <td>positive</td>\n",
       "      <td>negative</td>\n",
       "    </tr>\n",
       "    <tr>\n",
       "      <td>...</td>\n",
       "      <td>...</td>\n",
       "      <td>...</td>\n",
       "      <td>...</td>\n",
       "      <td>...</td>\n",
       "    </tr>\n",
       "    <tr>\n",
       "      <td>3176</td>\n",
       "      <td>yuanita menambahkan peserta vaksinasi harus mendaftar di elektronik vaksin yang tersedia di website isi biodata dan mengisi formulir vaksin</td>\n",
       "      <td>data</td>\n",
       "      <td>negative</td>\n",
       "      <td>positive</td>\n",
       "    </tr>\n",
       "    <tr>\n",
       "      <td>3177</td>\n",
       "      <td>yuk kita pakai peduli lindungi</td>\n",
       "      <td>aplikasi</td>\n",
       "      <td>positive</td>\n",
       "      <td>positive</td>\n",
       "    </tr>\n",
       "    <tr>\n",
       "      <td>3178</td>\n",
       "      <td>yuk segera unduh aplikasi peduli lindungi mulai tanggal september masuk supermarket kini wajib menggunakan peduli lidungi</td>\n",
       "      <td>aplikasi</td>\n",
       "      <td>positive</td>\n",
       "      <td>positive</td>\n",
       "    </tr>\n",
       "    <tr>\n",
       "      <td>3179</td>\n",
       "      <td>yuk sobat segera pasang atau unduh aplikasi peduli lindungi ya agar kita dapat selalu mencegah penyebaran covid</td>\n",
       "      <td>aplikasi</td>\n",
       "      <td>positive</td>\n",
       "      <td>positive</td>\n",
       "    </tr>\n",
       "    <tr>\n",
       "      <td>3180</td>\n",
       "      <td>yuk unduh aplikasi peduli lindungi supaya nyaman saat masuk ke kampus ke sayangan kamu ibik</td>\n",
       "      <td>aplikasi</td>\n",
       "      <td>positive</td>\n",
       "      <td>positive</td>\n",
       "    </tr>\n",
       "  </tbody>\n",
       "</table>\n",
       "<p>3181 rows × 4 columns</p>\n",
       "</div>"
      ],
      "text/plain": [
       "                                                                                                                                            Data_Tweet  \\\n",
       "0     selamat pagi bisa saja mereka minum kopi mereka dengan sengaja memanfaatkan aplikasi peduli lindungi                                               \n",
       "1     sosialisasi aplikasi peduli lindungi satuan lalu lintas polres pesisir selatan polda metro                                                         \n",
       "2     saya kan kemarin mendaftarkan orang tua saya vaksin di peduli lindungi sekarang status nya seperti ini terus langkah selanjutnya harus gimana ya   \n",
       "3     aplikasi peduli lindungi soalnya ada kata melindungi kamu                                                                                          \n",
       "4     data nomor induk kependudukan tidak ditemukan di peduli lindungi hubungi satu data vaksinasi di pusat telepon hot line peduli lindungi             \n",
       "...                                                                                                                                      ...             \n",
       "3176  yuanita menambahkan peserta vaksinasi harus mendaftar di elektronik vaksin yang tersedia di website isi biodata dan mengisi formulir vaksin        \n",
       "3177  yuk kita pakai peduli lindungi                                                                                                                     \n",
       "3178  yuk segera unduh aplikasi peduli lindungi mulai tanggal september masuk supermarket kini wajib menggunakan peduli lidungi                          \n",
       "3179  yuk sobat segera pasang atau unduh aplikasi peduli lindungi ya agar kita dapat selalu mencegah penyebaran covid                                    \n",
       "3180  yuk unduh aplikasi peduli lindungi supaya nyaman saat masuk ke kampus ke sayangan kamu ibik                                                        \n",
       "\n",
       "         aspek lexicon_based ahli_bahasa  \n",
       "0     aplikasi  positive      neutral     \n",
       "1     aplikasi  positive      neutral     \n",
       "2     layanan   positive      neutral     \n",
       "3     aplikasi  positive      positive    \n",
       "4     aplikasi  positive      negative    \n",
       "...        ...       ...           ...    \n",
       "3176  data      negative      positive    \n",
       "3177  aplikasi  positive      positive    \n",
       "3178  aplikasi  positive      positive    \n",
       "3179  aplikasi  positive      positive    \n",
       "3180  aplikasi  positive      positive    \n",
       "\n",
       "[3181 rows x 4 columns]"
      ]
     },
     "execution_count": 10,
     "metadata": {},
     "output_type": "execute_result"
    }
   ],
   "source": [
    "data = pd.read_csv(\"aspek/Perbandingan_Kelas_Sentimen.csv\",sep=\",\")\n",
    "pd.set_option('max_colwidth',1)\n",
    "data"
   ]
  },
  {
   "cell_type": "code",
   "execution_count": 11,
   "metadata": {},
   "outputs": [
    {
     "name": "stdout",
     "output_type": "stream",
     "text": [
      "Jumlah Kelas Lexicon Based\n",
      "Index(['positive', 'negative', 'neutral'], dtype='object')\n",
      "[2372  640  169] \n",
      "\n",
      "Jumlah Kelas Ahli Bahasa\n",
      "Index(['negative', 'positive', 'neutral'], dtype='object')\n",
      "[1265 1247  669]\n"
     ]
    }
   ],
   "source": [
    "data_lex= data['lexicon_based'].value_counts()\n",
    "data_pak= data['ahli_bahasa'].value_counts()\n",
    "\n",
    "kategori_1 = data_lex.index\n",
    "frekuensi_1 = data_lex.values\n",
    "\n",
    "kategori_2 = data_pak.index\n",
    "frekuensi_2 = data_pak.values\n",
    "\n",
    "print('Jumlah Kelas Lexicon Based')\n",
    "print(kategori_1)\n",
    "print(frekuensi_1,'\\n')\n",
    "\n",
    "print('Jumlah Kelas Ahli Bahasa')\n",
    "print(kategori_2)\n",
    "print(frekuensi_2)"
   ]
  },
  {
   "cell_type": "code",
   "execution_count": 12,
   "metadata": {},
   "outputs": [
    {
     "data": {
      "image/png": "[encoded data removed]",
      "text/plain": [
       "<Figure size 576x432 with 1 Axes>"
      ]
     },
     "metadata": {
      "needs_background": "light"
     },
     "output_type": "display_data"
    }
   ],
   "source": [
    "fig, ax = plt.subplots(figsize=(8, 6))\n",
    "w=0.35\n",
    "\n",
    "x = ['positive', 'negative', 'neutral']\n",
    "frekuensi_1 = (data_lex.values)\n",
    "frekuensi_2 = (data_pak.value_counts().index)\n",
    "\n",
    "bar1 = np.arange(len(x))\n",
    "\n",
    "lb = ax.bar(bar1-w/2, frekuensi_1, w, label=\"lexicon based\")\n",
    "p = ax.bar(bar1+w/2, frekuensi_2, w, label=\"ahli bahasa\")\n",
    "\n",
    "ax.set_title(\"Perbendingan Pelabelan Kelas Sentiment\", size=18)\n",
    "ax.set_xlabel(\"Sentiment\", size=14)\n",
    "ax.set_ylabel(\"Jumlah Kelas Sentimen\", size=14)\n",
    "ax.set_xticks(bar1)\n",
    "ax.set_xticklabels(x, size=12)\n",
    "ax.legend(fontsize=14)\n",
    "\n",
    "def autolabel(lb):\n",
    "    for rect in lb:\n",
    "        height = rect.get_height()\n",
    "        ax.text(rect.get_x() + rect.get_width()/2., 1.0*height,\n",
    "                '%d' % int(height),\n",
    "                ha='center', va='bottom')\n",
    "\n",
    "autolabel(lb)\n",
    "autolabel(p)\n",
    "\n",
    "plt.show()"
   ]
  },
  {
   "cell_type": "markdown",
   "metadata": {},
   "source": [
    "# 3. Menentukan Aspek Per-Dokumen Tweet"
   ]
  },
  {
   "cell_type": "markdown",
   "metadata": {},
   "source": [
    "Aspek yang digunakan `Aplkasi` `Data` `Layanan` "
   ]
  },
  {
   "cell_type": "code",
   "execution_count": 13,
   "metadata": {},
   "outputs": [],
   "source": [
    "import matplotlib.pyplot as plt\n",
    "import pandas as pd\n",
    "import seaborn as sns"
   ]
  },
  {
   "cell_type": "code",
   "execution_count": 14,
   "metadata": {},
   "outputs": [
    {
     "data": {
      "text/plain": [
       "aspek\n",
       "aplikasi    2071\n",
       "data        498 \n",
       "layanan     612 \n",
       "Name: aspek, dtype: int64"
      ]
     },
     "execution_count": 14,
     "metadata": {},
     "output_type": "execute_result"
    }
   ],
   "source": [
    "kategori_aspek = data.groupby(['aspek'])['aspek'].count()\n",
    "kategori_aspek"
   ]
  },
  {
   "cell_type": "code",
   "execution_count": 15,
   "metadata": {},
   "outputs": [
    {
     "name": "stdout",
     "output_type": "stream",
     "text": [
      "Kategori Aspek Aplikasi Peduli Lindungi\n"
     ]
    },
    {
     "data": {
      "image/png": "[encoded data removed]",
      "text/plain": [
       "<Figure size 360x360 with 1 Axes>"
      ]
     },
     "metadata": {},
     "output_type": "display_data"
    }
   ],
   "source": [
    "import matplotlib.pyplot as plt\n",
    " \n",
    "# Data to plot\n",
    "print('Kategori Aspek Aplikasi Peduli Lindungi')\n",
    "fig, ax= plt.subplots(figsize=(5,5))\n",
    "labels = list(data['aspek'].value_counts().index)\n",
    "sizes = [count for count in data['aspek'].value_counts()]\n",
    "colors = ['steelblue', 'slategray', 'gray']\n",
    "explode = (0.2, 0.1, 0.1)  # explode 1st slice\n",
    " \n",
    "# Plot\n",
    "plt.pie(sizes, explode=explode, labels=labels, colors=colors, autopct='%1.1f%%', shadow=True, startangle=140, textprops={'fontsize': 14})\n",
    " \n",
    "plt.axis('equal')\n",
    "plt.show()\n"
   ]
  },
  {
   "cell_type": "markdown",
   "metadata": {},
   "source": [
    "## Visualisasi Berdasarkan Aspek Aplikasi"
   ]
  },
  {
   "cell_type": "code",
   "execution_count": 16,
   "metadata": {},
   "outputs": [
    {
     "data": {
      "text/plain": [
       "aspek     lexicon_based\n",
       "aplikasi  positive         1595\n",
       "          negative         381 \n",
       "          neutral          95  \n",
       "Name: lexicon_based, dtype: int64"
      ]
     },
     "execution_count": 16,
     "metadata": {},
     "output_type": "execute_result"
    }
   ],
   "source": [
    "aspek_aplikasi = data[data['aspek']=='aplikasi'].groupby(['aspek'])['lexicon_based'].value_counts()\n",
    "aspek_aplikasi"
   ]
  },
  {
   "cell_type": "code",
   "execution_count": 17,
   "metadata": {},
   "outputs": [
    {
     "name": "stdout",
     "output_type": "stream",
     "text": [
      "Berdasarkan : Aspek Aplikasi-Lexicon Based\n"
     ]
    },
    {
     "data": {
      "image/png": "[encoded data removed]",
      "text/plain": [
       "<Figure size 360x360 with 1 Axes>"
      ]
     },
     "metadata": {},
     "output_type": "display_data"
    }
   ],
   "source": [
    "import matplotlib.pyplot as plt\n",
    " \n",
    "# Data to plot\n",
    "print('Berdasarkan : Aspek Aplikasi-Lexicon Based')\n",
    "fig, ax= plt.subplots(figsize=(5,5))\n",
    "labels = ['positive', 'negative', 'neutral']\n",
    "sizes = aspek_aplikasi\n",
    "colors = ['tan', 'sienna', 'peru']\n",
    "explode = (0.2, 0.1, 0.1)  # explode 1st slice\n",
    " \n",
    "# Plot\n",
    "plt.pie(sizes, explode=explode, labels=labels, colors=colors, autopct='%1.1f%%', shadow=True, startangle=140, textprops={'fontsize': 14})\n",
    " \n",
    "plt.axis('equal')\n",
    "plt.show()"
   ]
  },
  {
   "cell_type": "code",
   "execution_count": 18,
   "metadata": {},
   "outputs": [
    {
     "data": {
      "text/plain": [
       "aspek     ahli_bahasa\n",
       "aplikasi  positive       878\n",
       "          negative       804\n",
       "          neutral        389\n",
       "Name: ahli_bahasa, dtype: int64"
      ]
     },
     "execution_count": 18,
     "metadata": {},
     "output_type": "execute_result"
    }
   ],
   "source": [
    "aspek_aplikasi_ab = data[data['aspek']=='aplikasi'].groupby(['aspek'])['ahli_bahasa'].value_counts()\n",
    "aspek_aplikasi_ab"
   ]
  },
  {
   "cell_type": "code",
   "execution_count": 19,
   "metadata": {},
   "outputs": [
    {
     "name": "stdout",
     "output_type": "stream",
     "text": [
      "Berdasarkan : Aspek Aplikasi-Ahli Bahasa\n"
     ]
    },
    {
     "data": {
      "image/png": "[encoded data removed]",
      "text/plain": [
       "<Figure size 360x360 with 1 Axes>"
      ]
     },
     "metadata": {},
     "output_type": "display_data"
    }
   ],
   "source": [
    "# Data to plot\n",
    "print('Berdasarkan : Aspek Aplikasi-Ahli Bahasa')\n",
    "fig, ax= plt.subplots(figsize=(5,5))\n",
    "labels = ['positive', 'negative', 'neutral']\n",
    "sizes = aspek_aplikasi_ab\n",
    "colors = ['#FAF4B7', '#CDF0EA', '#ECC5FB']\n",
    "explode = (0.2, 0.1, 0.1)  # explode 1st slice\n",
    " \n",
    "# Plot\n",
    "plt.pie(sizes, explode=explode, labels=labels, colors=colors, autopct='%1.1f%%', shadow=True, startangle=140, textprops={'fontsize': 14})\n",
    " \n",
    "plt.axis('equal')\n",
    "plt.show()"
   ]
  },
  {
   "cell_type": "markdown",
   "metadata": {},
   "source": [
    "## Visualisasi Berdasarkan Aspek Data"
   ]
  },
  {
   "cell_type": "code",
   "execution_count": 20,
   "metadata": {},
   "outputs": [
    {
     "data": {
      "text/plain": [
       "aspek  lexicon_based\n",
       "data   positive         324\n",
       "       negative         138\n",
       "       neutral          36 \n",
       "Name: lexicon_based, dtype: int64"
      ]
     },
     "execution_count": 20,
     "metadata": {},
     "output_type": "execute_result"
    }
   ],
   "source": [
    "aspek_data = data[data['aspek']=='data'].groupby(['aspek'])['lexicon_based'].value_counts()\n",
    "aspek_data"
   ]
  },
  {
   "cell_type": "code",
   "execution_count": 21,
   "metadata": {},
   "outputs": [
    {
     "name": "stdout",
     "output_type": "stream",
     "text": [
      "Berdasarkan : Aspek Data-Lexicon Based\n"
     ]
    },
    {
     "data": {
      "image/png": "[encoded data removed]",
      "text/plain": [
       "<Figure size 360x360 with 1 Axes>"
      ]
     },
     "metadata": {},
     "output_type": "display_data"
    }
   ],
   "source": [
    "import matplotlib.pyplot as plt\n",
    " \n",
    "# Data to plot\n",
    "print('Berdasarkan : Aspek Data-Lexicon Based')\n",
    "fig, ax= plt.subplots(figsize=(5,5))\n",
    "labels = ['positive', 'negative', 'neutral']\n",
    "sizes = aspek_data.rename('percentage')\n",
    "colors = ['skyblue', 'lavender', 'slategrey']\n",
    "explode = (0.2, 0.1, 0.1)  # explode 1st slice\n",
    " \n",
    "# Plot\n",
    "plt.pie(sizes, explode=explode, labels=labels, colors=colors, autopct='%1.1f%%', shadow=True, startangle=140, textprops={'fontsize': 14})\n",
    " \n",
    "plt.axis('equal')\n",
    "plt.show()"
   ]
  },
  {
   "cell_type": "code",
   "execution_count": 22,
   "metadata": {},
   "outputs": [
    {
     "data": {
      "text/plain": [
       "aspek  ahli_bahasa\n",
       "data   negative       257\n",
       "       positive       169\n",
       "       neutral        72 \n",
       "Name: ahli_bahasa, dtype: int64"
      ]
     },
     "execution_count": 22,
     "metadata": {},
     "output_type": "execute_result"
    }
   ],
   "source": [
    "aspek_data_ab = data[data['aspek']=='data'].groupby(['aspek'])['ahli_bahasa'].value_counts()\n",
    "aspek_data_ab"
   ]
  },
  {
   "cell_type": "code",
   "execution_count": 23,
   "metadata": {},
   "outputs": [
    {
     "name": "stdout",
     "output_type": "stream",
     "text": [
      "Berdasarkan : Aspek Data-Ahli Bahasa\n"
     ]
    },
    {
     "data": {
      "image/png": "[encoded data removed]",
      "text/plain": [
       "<Figure size 360x360 with 1 Axes>"
      ]
     },
     "metadata": {},
     "output_type": "display_data"
    }
   ],
   "source": [
    "import matplotlib.pyplot as plt\n",
    " \n",
    "# Data to plot\n",
    "print('Berdasarkan : Aspek Data-Ahli Bahasa')\n",
    "fig, ax= plt.subplots(figsize=(5,5))\n",
    "labels = ['positive', 'negative', 'neutral']\n",
    "sizes = aspek_data_ab.rename('percentage')\n",
    "colors = ['#FAF0D7', '#8CC0DE', '#FFD9C0']\n",
    "explode = (0.2, 0.1, 0.1)  # explode 1st slice\n",
    " \n",
    "# Plot\n",
    "plt.pie(sizes, explode=explode, labels=labels, colors=colors, autopct='%1.1f%%', shadow=True, startangle=140, textprops={'fontsize': 14})\n",
    " \n",
    "plt.axis('equal')\n",
    "plt.show()"
   ]
  },
  {
   "cell_type": "markdown",
   "metadata": {},
   "source": [
    "## Visualisasi Berdasarkan Aspek Layanan"
   ]
  },
  {
   "cell_type": "code",
   "execution_count": 24,
   "metadata": {},
   "outputs": [
    {
     "data": {
      "text/plain": [
       "aspek    lexicon_based\n",
       "layanan  positive         453\n",
       "         negative         121\n",
       "         neutral          38 \n",
       "Name: lexicon_based, dtype: int64"
      ]
     },
     "execution_count": 24,
     "metadata": {},
     "output_type": "execute_result"
    }
   ],
   "source": [
    "aspek_layanan = data[data['aspek']=='layanan'].groupby(['aspek'])['lexicon_based'].value_counts()\n",
    "aspek_layanan"
   ]
  },
  {
   "cell_type": "code",
   "execution_count": 25,
   "metadata": {},
   "outputs": [
    {
     "name": "stdout",
     "output_type": "stream",
     "text": [
      "Berdasarkan : Aspek Layanan-Lexicon Based\n"
     ]
    },
    {
     "data": {
      "image/png": "[encoded data removed]",
      "text/plain": [
       "<Figure size 360x360 with 1 Axes>"
      ]
     },
     "metadata": {},
     "output_type": "display_data"
    }
   ],
   "source": [
    "import matplotlib.pyplot as plt\n",
    " \n",
    "# Data to plot\n",
    "print('Berdasarkan : Aspek Layanan-Lexicon Based')\n",
    "fig, ax= plt.subplots(figsize=(5,5))\n",
    "labels = ['positive', 'negative', 'neutral']\n",
    "sizes = aspek_layanan.rename('percentage')\n",
    "colors = ['#54BAB9', '#E9DAC1', '#E8AA42']\n",
    "explode = (0.2, 0.1, 0.1)  # explode 1st slice\n",
    " \n",
    "# Plot\n",
    "plt.pie(sizes, explode=explode, labels=labels, colors=colors, autopct='%1.1f%%', shadow=True, startangle=140, textprops={'fontsize': 14})\n",
    " \n",
    "plt.axis('equal')\n",
    "plt.show()"
   ]
  },
  {
   "cell_type": "code",
   "execution_count": 26,
   "metadata": {},
   "outputs": [
    {
     "data": {
      "text/plain": [
       "aspek    ahli_bahasa\n",
       "layanan  neutral        208\n",
       "         negative       204\n",
       "         positive       200\n",
       "Name: ahli_bahasa, dtype: int64"
      ]
     },
     "execution_count": 26,
     "metadata": {},
     "output_type": "execute_result"
    }
   ],
   "source": [
    "aspek_layanan_ab = data[data['aspek']=='layanan'].groupby(['aspek'])['ahli_bahasa'].value_counts()\n",
    "aspek_layanan_ab"
   ]
  },
  {
   "cell_type": "code",
   "execution_count": 27,
   "metadata": {},
   "outputs": [
    {
     "name": "stdout",
     "output_type": "stream",
     "text": [
      "Berdasarkan : Aspek Layanan-Ahli Bahasa\n"
     ]
    },
    {
     "data": {
      "image/png": "[encoded data removed]",
      "text/plain": [
       "<Figure size 360x360 with 1 Axes>"
      ]
     },
     "metadata": {},
     "output_type": "display_data"
    }
   ],
   "source": [
    "import matplotlib.pyplot as plt\n",
    " \n",
    "# Data to plot\n",
    "print('Berdasarkan : Aspek Layanan-Ahli Bahasa')\n",
    "fig, ax= plt.subplots(figsize=(5,5))\n",
    "labels = ['positive', 'negative', 'neutral']\n",
    "sizes = aspek_layanan_ab.rename('percentage')\n",
    "colors = ['#A2B38B', '#E4E9BE', '#FAFDD6']\n",
    "explode = (0.2, 0.1, 0.1)  # explode 1st slice\n",
    " \n",
    "# Plot\n",
    "plt.pie(sizes, explode=explode, labels=labels, colors=colors, autopct='%1.1f%%', shadow=True, startangle=140, textprops={'fontsize': 14})\n",
    " \n",
    "plt.axis('equal')\n",
    "plt.show()"
   ]
  }
 ],
 "metadata": {
  "kernelspec": {
   "display_name": "Python 3",
   "language": "python",
   "name": "python3"
  },
  "language_info": {
   "codemirror_mode": {
    "name": "ipython",
    "version": 3
   },
   "file_extension": ".py",
   "mimetype": "text/x-python",
   "name": "python",
   "nbconvert_exporter": "python",
   "pygments_lexer": "ipython3",
   "version": "3.7.4"
  }
 },
 "nbformat": 4,
 "nbformat_minor": 2
}
